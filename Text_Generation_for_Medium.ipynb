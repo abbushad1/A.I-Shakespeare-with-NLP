{
  "nbformat": 4,
  "nbformat_minor": 0,
  "metadata": {
    "accelerator": "GPU",
    "colab": {
      "name": "Text Generation for Medium.ipynb",
      "provenance": [],
      "collapsed_sections": [],
      "include_colab_link": true
    },
    "kernelspec": {
      "display_name": "Python 3",
      "name": "python3"
    }
  },
  "cells": [
    {
      "cell_type": "markdown",
      "metadata": {
        "id": "view-in-github",
        "colab_type": "text"
      },
      "source": [
        "<a href=\"https://colab.research.google.com/github/abbushad1/A.I-Shakespeare-with-NLP/blob/main/Text_Generation_for_Medium.ipynb\" target=\"_parent\"><img src=\"https://colab.research.google.com/assets/colab-badge.svg\" alt=\"Open In Colab\"/></a>"
      ]
    },
    {
      "cell_type": "markdown",
      "metadata": {
        "id": "dp8aob1QGE-G"
      },
      "source": [
        "# Text Generation with Deep NLP"
      ]
    },
    {
      "cell_type": "markdown",
      "metadata": {
        "id": "hVbJOI-1aDAg"
      },
      "source": [
        "# Initial Imports"
      ]
    },
    {
      "cell_type": "code",
      "metadata": {
        "id": "rZmboQSoxgJu"
      },
      "source": [
        "import tensorflow as tf\n",
        "import numpy as np\n",
        "import os"
      ],
      "execution_count": null,
      "outputs": []
    },
    {
      "cell_type": "markdown",
      "metadata": {
        "id": "4JAPm4g0aAff"
      },
      "source": [
        "# Loading the Corpus"
      ]
    },
    {
      "cell_type": "code",
      "metadata": {
        "id": "6TARp2zvX4tC",
        "colab": {
          "base_uri": "https://localhost:8080/"
        },
        "outputId": "fb8dc9cf-e94d-45b8-c531-c36d22f0169f"
      },
      "source": [
        "path_to_file = tf.keras.utils.get_file('shakespeare.txt', 'https://storage.googleapis.com/download.tensorflow.org/data/shakespeare.txt')"
      ],
      "execution_count": null,
      "outputs": [
        {
          "output_type": "stream",
          "name": "stdout",
          "text": [
            "Downloading data from https://storage.googleapis.com/download.tensorflow.org/data/shakespeare.txt\n",
            "1122304/1115394 [==============================] - 0s 0us/step\n",
            "1130496/1115394 [==============================] - 0s 0us/step\n"
          ]
        }
      ]
    },
    {
      "cell_type": "code",
      "metadata": {
        "id": "HlEc9dbfxgAW",
        "colab": {
          "base_uri": "https://localhost:8080/"
        },
        "outputId": "28e9e13a-4dff-4fbf-b40d-3a3bcc003bfb"
      },
      "source": [
        "# Read, then decode for py2 compat.\n",
        "text = open(path_to_file, 'rb').read()\n",
        "text = text.decode(encoding='utf-8')\n",
        "print ('Total number of characters in the corpus is:', len(text))\n",
        "print('The first 100 characters of the corpus are as follows:\\n', text[:100])"
      ],
      "execution_count": null,
      "outputs": [
        {
          "output_type": "stream",
          "name": "stdout",
          "text": [
            "Total number of characters in the corpus is: 1115394\n",
            "The first 100 characters of the corpus are as follows:\n",
            " First Citizen:\n",
            "Before we proceed any further, hear me speak.\n",
            "\n",
            "All:\n",
            "Speak, speak.\n",
            "\n",
            "First Citizen:\n",
            "You\n"
          ]
        }
      ]
    },
    {
      "cell_type": "code",
      "metadata": {
        "id": "WZHzozWeZz1_"
      },
      "source": [
        ""
      ],
      "execution_count": null,
      "outputs": []
    },
    {
      "cell_type": "markdown",
      "metadata": {
        "id": "RuyY8WxaZ7_S"
      },
      "source": [
        "# Vectorize the Text"
      ]
    },
    {
      "cell_type": "code",
      "metadata": {
        "id": "_xHT6fQiyF3R",
        "colab": {
          "base_uri": "https://localhost:8080/"
        },
        "outputId": "e2dcfa84-6cac-4cde-b73c-1a8266573da7"
      },
      "source": [
        "# The unique characters in the corpus\n",
        "vocab = sorted(set(text))\n",
        "print ('The number of unique characters in the corpus is', len(vocab))\n",
        "print('A slice of the unique characters set:\\n', vocab[:10])"
      ],
      "execution_count": null,
      "outputs": [
        {
          "output_type": "stream",
          "name": "stdout",
          "text": [
            "The number of unique characters in the corpus is 65\n",
            "A slice of the unique characters set:\n",
            " ['\\n', ' ', '!', '$', '&', \"'\", ',', '-', '.', '3']\n"
          ]
        }
      ]
    },
    {
      "cell_type": "code",
      "metadata": {
        "id": "Tquljix2hTQe"
      },
      "source": [
        "# Create a mapping from unique characters to indices\n",
        "char2idx = {u:i for i, u in enumerate(vocab)}\n",
        "# Make a copy of the unique set elements in NumPy array format for later use in the decoding the predictions\n",
        "idx2char = np.array(vocab)\n",
        "# Vectorize the text with a for loop\n",
        "text_as_int = np.array([char2idx[c] for c in text])"
      ],
      "execution_count": null,
      "outputs": []
    },
    {
      "cell_type": "markdown",
      "metadata": {
        "id": "N3ZF1b_diBcg"
      },
      "source": [
        "# Creating the Dataset"
      ]
    },
    {
      "cell_type": "code",
      "metadata": {
        "id": "dikbbYPWdJOq"
      },
      "source": [
        "# Create training examples / targets\n",
        "char_dataset = tf.data.Dataset.from_tensor_slices(text_as_int) \n",
        "# for i in char_dataset.take(5): \n",
        "#   print(i.numpy())\n",
        "seq_length = 100 # The max. length for single input\n",
        "# examples_per_epoch = len(text)//(seq_length+1) # double-slash for “floor” division\n",
        "sequences = char_dataset.batch(seq_length+1, drop_remainder=True) \n",
        "# for item in sequences.take(5): \n",
        "#   print(repr(''.join(idx2char[item.numpy()])))"
      ],
      "execution_count": null,
      "outputs": []
    },
    {
      "cell_type": "code",
      "metadata": {
        "id": "jsb-lPLLxsCA"
      },
      "source": [
        "def split_input_target(chunk):\n",
        "  input_text = chunk[:-1]\n",
        "  target_text = chunk[1:]\n",
        "  return input_text, target_text\n",
        "\n",
        "dataset = sequences.map(split_input_target)"
      ],
      "execution_count": null,
      "outputs": []
    },
    {
      "cell_type": "code",
      "metadata": {
        "id": "ajx3qv1Lxfz2",
        "colab": {
          "base_uri": "https://localhost:8080/"
        },
        "outputId": "d13bc991-a1ad-49a8-e3ab-41d23167fb10"
      },
      "source": [
        "BUFFER_SIZE = 10000 # TF shuffles the data only within buffers\n",
        "\n",
        "BATCH_SIZE = 64 # Batch size\n",
        "\n",
        "dataset = dataset.shuffle(BUFFER_SIZE).batch(BATCH_SIZE, drop_remainder=True)\n",
        "\n",
        "print(dataset)"
      ],
      "execution_count": null,
      "outputs": [
        {
          "output_type": "stream",
          "name": "stdout",
          "text": [
            "<BatchDataset shapes: ((64, 100), (64, 100)), types: (tf.int64, tf.int64)>\n"
          ]
        }
      ]
    },
    {
      "cell_type": "code",
      "metadata": {
        "id": "K55fth5KfDFh"
      },
      "source": [
        "# for item in dataset.take(1): \n",
        "#  print(repr(''.join(idx2char[item[0][0].numpy()])))"
      ],
      "execution_count": null,
      "outputs": []
    },
    {
      "cell_type": "markdown",
      "metadata": {
        "id": "sJPK09E3aKqY"
      },
      "source": [
        "# Building the Model"
      ]
    },
    {
      "cell_type": "code",
      "metadata": {
        "id": "t2duEpNrBiWr"
      },
      "source": [
        "# Length of the vocabulary in chars\n",
        "vocab_size = len(vocab)\n",
        "# The embedding dimension\n",
        "embedding_dim = 256\n",
        "# Number of RNN units\n",
        "rnn_units = 1024"
      ],
      "execution_count": null,
      "outputs": []
    },
    {
      "cell_type": "code",
      "metadata": {
        "id": "xM7poTwJI9Oe"
      },
      "source": [
        "def build_model(vocab_size, embedding_dim, rnn_units, batch_size):\n",
        "  model = tf.keras.Sequential([\n",
        "    tf.keras.layers.Embedding(vocab_size, embedding_dim,\n",
        "                              batch_input_shape=[batch_size, None]),\n",
        "    tf.keras.layers.GRU(rnn_units,\n",
        "                        return_sequences=True,\n",
        "                        stateful=True,\n",
        "                        recurrent_initializer='glorot_uniform'),\n",
        "    tf.keras.layers.Dense(vocab_size)\n",
        "  ])\n",
        "  return model"
      ],
      "execution_count": null,
      "outputs": []
    },
    {
      "cell_type": "code",
      "metadata": {
        "id": "vk7a6BSlI9ym",
        "colab": {
          "base_uri": "https://localhost:8080/"
        },
        "outputId": "e9f56e57-dd92-4cdb-d78a-3b5ae1856c19"
      },
      "source": [
        "model = build_model(\n",
        "    vocab_size = len(vocab), # no. of unique characters\n",
        "    embedding_dim=embedding_dim, # 256\n",
        "    rnn_units=rnn_units, # 1024\n",
        "    batch_size=BATCH_SIZE)  # 64 for the traning\n",
        "\n",
        "model.summary()"
      ],
      "execution_count": null,
      "outputs": [
        {
          "output_type": "stream",
          "name": "stdout",
          "text": [
            "Model: \"sequential\"\n",
            "_________________________________________________________________\n",
            " Layer (type)                Output Shape              Param #   \n",
            "=================================================================\n",
            " embedding (Embedding)       (64, None, 256)           16640     \n",
            "                                                                 \n",
            " gru (GRU)                   (64, None, 1024)          3938304   \n",
            "                                                                 \n",
            " dense (Dense)               (64, None, 65)            66625     \n",
            "                                                                 \n",
            "=================================================================\n",
            "Total params: 4,021,569\n",
            "Trainable params: 4,021,569\n",
            "Non-trainable params: 0\n",
            "_________________________________________________________________\n"
          ]
        }
      ]
    },
    {
      "cell_type": "code",
      "metadata": {
        "id": "JtqzdBllmckI",
        "colab": {
          "base_uri": "https://localhost:8080/"
        },
        "outputId": "0a60b3e8-5348-4b6f-c699-3f0e59ad1717"
      },
      "source": [
        ""
      ],
      "execution_count": null,
      "outputs": [
        {
          "output_type": "stream",
          "text": [
            "Model: \"sequential\"\n",
            "_________________________________________________________________\n",
            "Layer (type)                 Output Shape              Param #   \n",
            "=================================================================\n",
            "embedding (Embedding)        (64, None, 256)           16640     \n",
            "_________________________________________________________________\n",
            "gru (GRU)                    (64, None, 1024)          3938304   \n",
            "_________________________________________________________________\n",
            "dense (Dense)                (64, None, 65)            66625     \n",
            "=================================================================\n",
            "Total params: 4,021,569\n",
            "Trainable params: 4,021,569\n",
            "Non-trainable params: 0\n",
            "_________________________________________________________________\n"
          ],
          "name": "stdout"
        }
      ]
    },
    {
      "cell_type": "markdown",
      "metadata": {
        "id": "2HZ0UQnmCo1d"
      },
      "source": [
        "# Compiling and Training"
      ]
    },
    {
      "cell_type": "code",
      "metadata": {
        "id": "32GJAay5JD7c"
      },
      "source": [
        "def loss(labels, logits):\n",
        "  return tf.keras.losses.sparse_categorical_crossentropy(labels, logits, from_logits=True)\n",
        "\n",
        "# example_batch_loss  = loss(target_example_batch, example_batch_predictions)\n",
        "# print(\"Prediction shape: \", example_batch_predictions.shape, \" (batch_size, sequence_length, vocab_size)\")\n",
        "# print(\"scalar_loss:      \", example_batch_loss.numpy().mean())\n",
        "\n",
        "model.compile(optimizer='adam', loss=loss)"
      ],
      "execution_count": null,
      "outputs": []
    },
    {
      "cell_type": "code",
      "metadata": {
        "id": "eLWpiJUuyRUo"
      },
      "source": [
        "# Directory where the checkpoints will be saved\n",
        "checkpoint_dir = './training_checkpoints'\n",
        "# Name of the checkpoint files\n",
        "checkpoint_prefix = os.path.join(checkpoint_dir, \"ckpt_{epoch}\")\n",
        "\n",
        "checkpoint_callback=tf.keras.callbacks.ModelCheckpoint(\n",
        "    filepath=checkpoint_prefix,\n",
        "    save_weights_only=True)"
      ],
      "execution_count": null,
      "outputs": []
    },
    {
      "cell_type": "code",
      "metadata": {
        "id": "-t8_cuxg1UJl",
        "colab": {
          "base_uri": "https://localhost:8080/"
        },
        "outputId": "589093be-597a-4d65-f73d-78b2a0528511"
      },
      "source": [
        "EPOCHS = 30\n",
        "history = model.fit(dataset, epochs=EPOCHS, callbacks=[checkpoint_callback])"
      ],
      "execution_count": null,
      "outputs": [
        {
          "output_type": "stream",
          "name": "stdout",
          "text": [
            "Epoch 1/30\n",
            "172/172 [==============================] - 14s 49ms/step - loss: 2.6635\n",
            "Epoch 2/30\n",
            "172/172 [==============================] - 10s 49ms/step - loss: 1.9553\n",
            "Epoch 3/30\n",
            "172/172 [==============================] - 10s 50ms/step - loss: 1.6859\n",
            "Epoch 4/30\n",
            "172/172 [==============================] - 10s 50ms/step - loss: 1.5374\n",
            "Epoch 5/30\n",
            "172/172 [==============================] - 10s 50ms/step - loss: 1.4510\n",
            "Epoch 6/30\n",
            "172/172 [==============================] - 10s 51ms/step - loss: 1.3924\n",
            "Epoch 7/30\n",
            "172/172 [==============================] - 10s 51ms/step - loss: 1.3475\n",
            "Epoch 8/30\n",
            "172/172 [==============================] - 10s 51ms/step - loss: 1.3086\n",
            "Epoch 9/30\n",
            "172/172 [==============================] - 10s 52ms/step - loss: 1.2747\n",
            "Epoch 10/30\n",
            "172/172 [==============================] - 10s 52ms/step - loss: 1.2420\n",
            "Epoch 11/30\n",
            "172/172 [==============================] - 10s 52ms/step - loss: 1.2101\n",
            "Epoch 12/30\n",
            "172/172 [==============================] - 10s 52ms/step - loss: 1.1777\n",
            "Epoch 13/30\n",
            "172/172 [==============================] - 10s 53ms/step - loss: 1.1456\n",
            "Epoch 14/30\n",
            "172/172 [==============================] - 10s 53ms/step - loss: 1.1110\n",
            "Epoch 15/30\n",
            "172/172 [==============================] - 10s 54ms/step - loss: 1.0770\n",
            "Epoch 16/30\n",
            "172/172 [==============================] - 10s 54ms/step - loss: 1.0424\n",
            "Epoch 17/30\n",
            "172/172 [==============================] - 10s 54ms/step - loss: 1.0053\n",
            "Epoch 18/30\n",
            "172/172 [==============================] - 10s 53ms/step - loss: 0.9703\n",
            "Epoch 19/30\n",
            "172/172 [==============================] - 10s 54ms/step - loss: 0.9352\n",
            "Epoch 20/30\n",
            "172/172 [==============================] - 10s 54ms/step - loss: 0.9012\n",
            "Epoch 21/30\n",
            "172/172 [==============================] - 10s 54ms/step - loss: 0.8689\n",
            "Epoch 22/30\n",
            "172/172 [==============================] - 10s 54ms/step - loss: 0.8409\n",
            "Epoch 23/30\n",
            "172/172 [==============================] - 10s 54ms/step - loss: 0.8128\n",
            "Epoch 24/30\n",
            "172/172 [==============================] - 10s 53ms/step - loss: 0.7898\n",
            "Epoch 25/30\n",
            "172/172 [==============================] - 10s 53ms/step - loss: 0.7670\n",
            "Epoch 26/30\n",
            "172/172 [==============================] - 10s 52ms/step - loss: 0.7496\n",
            "Epoch 27/30\n",
            "172/172 [==============================] - 10s 53ms/step - loss: 0.7314\n",
            "Epoch 28/30\n",
            "172/172 [==============================] - 10s 54ms/step - loss: 0.7192\n",
            "Epoch 29/30\n",
            "172/172 [==============================] - 11s 54ms/step - loss: 0.7054\n",
            "Epoch 30/30\n",
            "172/172 [==============================] - 11s 55ms/step - loss: 0.6955\n"
          ]
        }
      ]
    },
    {
      "cell_type": "markdown",
      "metadata": {
        "id": "LoMLbQB_hmLT"
      },
      "source": [
        "# Generate Text"
      ]
    },
    {
      "cell_type": "code",
      "metadata": {
        "id": "xjbqGMcPvsmL",
        "colab": {
          "base_uri": "https://localhost:8080/",
          "height": 165
        },
        "outputId": "75d30f31-7063-4086-d62b-fd2c08131c7d"
      },
      "source": [
        "tf.trainx.latest_checkpoint(checkpoint_dir)"
      ],
      "execution_count": null,
      "outputs": [
        {
          "output_type": "error",
          "ename": "AttributeError",
          "evalue": "ignored",
          "traceback": [
            "\u001b[0;31m---------------------------------------------------------------------------\u001b[0m",
            "\u001b[0;31mAttributeError\u001b[0m                            Traceback (most recent call last)",
            "\u001b[0;32m<ipython-input-18-0e854fd4eed1>\u001b[0m in \u001b[0;36m<module>\u001b[0;34m()\u001b[0m\n\u001b[0;32m----> 1\u001b[0;31m \u001b[0mtf\u001b[0m\u001b[0;34m.\u001b[0m\u001b[0mtrainx\u001b[0m\u001b[0;34m.\u001b[0m\u001b[0mlatest_checkpoint\u001b[0m\u001b[0;34m(\u001b[0m\u001b[0mcheckpoint_dir\u001b[0m\u001b[0;34m)\u001b[0m\u001b[0;34m\u001b[0m\u001b[0;34m\u001b[0m\u001b[0m\n\u001b[0m",
            "\u001b[0;31mAttributeError\u001b[0m: module 'tensorflow' has no attribute 'trainx'"
          ]
        }
      ]
    },
    {
      "cell_type": "code",
      "metadata": {
        "id": "UScAMJzYzKIw",
        "colab": {
          "base_uri": "https://localhost:8080/"
        },
        "outputId": "d3ebbf89-0aee-4517-db1c-9ba9eb54eb1b"
      },
      "source": [
        "model = build_model(vocab_size, embedding_dim, rnn_units, batch_size=1)\n",
        "model.load_weights(tf.train.latest_checkpoint(checkpoint_dir))\n",
        "model.build(tf.TensorShape([1, None]))\n",
        "model.summary()"
      ],
      "execution_count": null,
      "outputs": [
        {
          "output_type": "stream",
          "name": "stdout",
          "text": [
            "Model: \"sequential_1\"\n",
            "_________________________________________________________________\n",
            " Layer (type)                Output Shape              Param #   \n",
            "=================================================================\n",
            " embedding_1 (Embedding)     (1, None, 256)            16640     \n",
            "                                                                 \n",
            " gru_1 (GRU)                 (1, None, 1024)           3938304   \n",
            "                                                                 \n",
            " dense_1 (Dense)             (1, None, 65)             66625     \n",
            "                                                                 \n",
            "=================================================================\n",
            "Total params: 4,021,569\n",
            "Trainable params: 4,021,569\n",
            "Non-trainable params: 0\n",
            "_________________________________________________________________\n"
          ]
        }
      ]
    },
    {
      "cell_type": "code",
      "metadata": {
        "id": "iODcHjp4JaDt"
      },
      "source": [
        "def generate_text(model, num_generate, temperature, start_string):\n",
        "  input_eval = [char2idx[s] for s in start_string] # string to numbers (vectorizing)\n",
        "  input_eval = tf.expand_dims(input_eval, 0) # dimension expansion\n",
        "  text_generated = [] # Empty string to store our results\n",
        "  model.reset_states() # Clears the hidden states in the RNN\n",
        "\n",
        "  for i in range(num_generate): #Run a loop for number of characters to generate\n",
        "    predictions = model(input_eval) # prediction for single character\n",
        "    predictions = tf.squeeze(predictions, 0) # remove the batch dimension\n",
        "\n",
        "    # using a categorical distribution to predict the character returned by the model\n",
        "    # higher temperature increases the probability of selecting a less likely character\n",
        "    # lower --> more predictable\n",
        "    predictions = predictions / temperature\n",
        "    predicted_id = tf.random.categorical(predictions, num_samples=1)[-1,0].numpy()\n",
        "\n",
        "    # The predicted character as the next input to the model\n",
        "    # along with the previous hidden state\n",
        "    # So the model makes the next prediction based on the previous character\n",
        "    input_eval = tf.expand_dims([predicted_id], 0) \n",
        "    # Also devectorize the number and add to the generated text\n",
        "    text_generated.append(idx2char[predicted_id]) \n",
        "\n",
        "  return (start_string + ''.join(text_generated))"
      ],
      "execution_count": null,
      "outputs": []
    },
    {
      "cell_type": "code",
      "metadata": {
        "id": "AL6a-XoQzIsM"
      },
      "source": [
        "generated_text = generate_text(\n",
        "                    model, \n",
        "                    num_generate=500, \n",
        "                    temperature=1, \n",
        "                    start_string=u\"ROMEO\")"
      ],
      "execution_count": null,
      "outputs": []
    },
    {
      "cell_type": "code",
      "metadata": {
        "id": "fYuNQloHzIbn",
        "colab": {
          "base_uri": "https://localhost:8080/"
        },
        "outputId": "dd26999c-5cfc-4f5f-bce2-c4ea37b4c518"
      },
      "source": [
        "print(generated_text)"
      ],
      "execution_count": null,
      "outputs": [
        {
          "output_type": "stream",
          "name": "stdout",
          "text": [
            "ROMEO:\n",
            "I protest a more committed beggar, he haply made way,\n",
            "With them by tunt;\n",
            "And bring along these two duke take hands:\n",
            "Come hither, cozen King Henry's heart.\n",
            "\n",
            "QUEEN ELIZABETH:\n",
            "O, thou denies the lurs.\n",
            "\n",
            "HERMIONE:\n",
            "Even he.\n",
            "My soul, the atternance of his supplict?\n",
            "And, by thy great suspicion. Darket not of him?\n",
            "\n",
            "JOHN OF GAUNT:\n",
            "O, how my house wrought to thee?\n",
            "\n",
            "QUEEN MARGARET:\n",
            "And say you would he frown by wars a woman and\n",
            "The handly of the house of Londoo he hath\n",
            "cons to find you spur asleep. We'll \n"
          ]
        }
      ]
    }
  ]
}